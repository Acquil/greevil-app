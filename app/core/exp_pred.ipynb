{
 "cells": [
  {
   "cell_type": "code",
   "execution_count": 3,
   "metadata": {
    "collapsed": true
   },
   "outputs": [],
   "source": [
    "import pandas as pd\n"
   ]
  },
  {
   "cell_type": "code",
   "execution_count": 112,
   "outputs": [],
   "source": [
    "exp_list= [\n",
    "      {\n",
    "        \"id\": \"fe352289a25a97ea9b53d1945d1558b9\",\n",
    "        \"user_id\": \"string\",\n",
    "        \"amount\": 1000,\n",
    "        \"description\": \"string\",\n",
    "        \"comments\": \"string\",\n",
    "        \"payor\": \"string\",\n",
    "        \"date\": \"2020-11-07\"\n",
    "      },\n",
    "      {\n",
    "        \"id\": \"05753e3e926320eb2364c9da8df77c35\",\n",
    "        \"user_id\": \"string\",\n",
    "        \"amount\": 3000,\n",
    "        \"description\": \"string\",\n",
    "        \"comments\": \"string\",\n",
    "        \"payor\": \"string\",\n",
    "        \"date\": \"2020-11-05\"\n",
    "      },\n",
    "    {\n",
    "        \"id\": \"05753e3e926320eb2364c9da8df77c35\",\n",
    "        \"user_id\": \"string\",\n",
    "        \"amount\": 3000,\n",
    "        \"description\": \"string\",\n",
    "        \"comments\": \"string\",\n",
    "        \"payor\": \"string\",\n",
    "        \"date\": \"2020-11-03\"\n",
    "      },\n",
    "    {\n",
    "        \"id\": \"05753e3e926320eb2364c9da8df77c35\",\n",
    "        \"user_id\": \"string\",\n",
    "        \"amount\": 1500,\n",
    "        \"description\": \"string\",\n",
    "        \"comments\": \"string\",\n",
    "        \"payor\": \"string\",\n",
    "        \"date\": \"2020-11-05\"\n",
    "      },\n",
    "    {\n",
    "        \"id\": \"05753e3e926320eb2364c9da8df77c35\",\n",
    "        \"user_id\": \"string\",\n",
    "        \"amount\": 300,\n",
    "        \"description\": \"string\",\n",
    "        \"comments\": \"string\",\n",
    "        \"payor\": \"string\",\n",
    "        \"date\": \"2019-12-30\"\n",
    "      },\n",
    "    {\n",
    "        \"id\": \"05753e3e926320eb2364c9da8df77c35\",\n",
    "        \"user_id\": \"string\",\n",
    "        \"amount\": 4000,\n",
    "        \"description\": \"string\",\n",
    "        \"comments\": \"string\",\n",
    "        \"payor\": \"string\",\n",
    "        \"date\": \"2020-10-05\"\n",
    "      },\n",
    "    {\n",
    "        \"id\": \"05753e3e926320eb2364c9da8df77c35\",\n",
    "        \"user_id\": \"string\",\n",
    "        \"amount\": 14000,\n",
    "        \"description\": \"string\",\n",
    "        \"comments\": \"string\",\n",
    "        \"payor\": \"string\",\n",
    "        \"date\": \"2020-09-05\"\n",
    "      },\n",
    "    {\n",
    "        \"id\": \"05753e3e926320eb2364c9da8df77c35\",\n",
    "        \"user_id\": \"string\",\n",
    "        \"amount\": 4100,\n",
    "        \"description\": \"string\",\n",
    "        \"comments\": \"string\",\n",
    "        \"payor\": \"string\",\n",
    "        \"date\": \"2020-07-05\"\n",
    "      },\n",
    "    {\n",
    "        \"id\": \"05753e3e926320eb2364c9da8df77c35\",\n",
    "        \"user_id\": \"string\",\n",
    "        \"amount\": 4000,\n",
    "        \"description\": \"string\",\n",
    "        \"comments\": \"string\",\n",
    "        \"payor\": \"string\",\n",
    "        \"date\": \"2020-06-05\"\n",
    "      },\n",
    "    {\n",
    "        \"id\": \"05753e3e926320eb2364c9da8df77c35\",\n",
    "        \"user_id\": \"string\",\n",
    "        \"amount\": 4000,\n",
    "        \"description\": \"string\",\n",
    "        \"comments\": \"string\",\n",
    "        \"payor\": \"string\",\n",
    "        \"date\": \"2020-04-05\"\n",
    "      }\n",
    "]"
   ],
   "metadata": {
    "collapsed": false,
    "pycharm": {
     "name": "#%%\n"
    }
   }
  },
  {
   "cell_type": "code",
   "execution_count": 21,
   "outputs": [
    {
     "data": {
      "text/plain": "                                 id user_id  amount description comments  \\\n0  fe352289a25a97ea9b53d1945d1558b9  string    1000      string   string   \n1  05753e3e926320eb2364c9da8df77c35  string    3000      string   string   \n2  05753e3e926320eb2364c9da8df77c35  string    3000      string   string   \n3  05753e3e926320eb2364c9da8df77c35  string    1500      string   string   \n4  05753e3e926320eb2364c9da8df77c35  string     300      string   string   \n5  05753e3e926320eb2364c9da8df77c35  string    4000      string   string   \n6  05753e3e926320eb2364c9da8df77c35  string   14000      string   string   \n7  05753e3e926320eb2364c9da8df77c35  string    4100      string   string   \n8  05753e3e926320eb2364c9da8df77c35  string    4000      string   string   \n9  05753e3e926320eb2364c9da8df77c35  string    4000      string   string   \n\n    payor        date  \n0  string  2020-11-07  \n1  string  2020-11-05  \n2  string  2020-11-03  \n3  string  2020-11-05  \n4  string  2019-12-30  \n5  string  2020-10-05  \n6  string  2020-09-05  \n7  string  2020-07-05  \n8  string  2020-06-05  \n9  string  2020-04-05  ",
      "text/html": "<div>\n<style scoped>\n    .dataframe tbody tr th:only-of-type {\n        vertical-align: middle;\n    }\n\n    .dataframe tbody tr th {\n        vertical-align: top;\n    }\n\n    .dataframe thead th {\n        text-align: right;\n    }\n</style>\n<table border=\"1\" class=\"dataframe\">\n  <thead>\n    <tr style=\"text-align: right;\">\n      <th></th>\n      <th>id</th>\n      <th>user_id</th>\n      <th>amount</th>\n      <th>description</th>\n      <th>comments</th>\n      <th>payor</th>\n      <th>date</th>\n    </tr>\n  </thead>\n  <tbody>\n    <tr>\n      <th>0</th>\n      <td>fe352289a25a97ea9b53d1945d1558b9</td>\n      <td>string</td>\n      <td>1000</td>\n      <td>string</td>\n      <td>string</td>\n      <td>string</td>\n      <td>2020-11-07</td>\n    </tr>\n    <tr>\n      <th>1</th>\n      <td>05753e3e926320eb2364c9da8df77c35</td>\n      <td>string</td>\n      <td>3000</td>\n      <td>string</td>\n      <td>string</td>\n      <td>string</td>\n      <td>2020-11-05</td>\n    </tr>\n    <tr>\n      <th>2</th>\n      <td>05753e3e926320eb2364c9da8df77c35</td>\n      <td>string</td>\n      <td>3000</td>\n      <td>string</td>\n      <td>string</td>\n      <td>string</td>\n      <td>2020-11-03</td>\n    </tr>\n    <tr>\n      <th>3</th>\n      <td>05753e3e926320eb2364c9da8df77c35</td>\n      <td>string</td>\n      <td>1500</td>\n      <td>string</td>\n      <td>string</td>\n      <td>string</td>\n      <td>2020-11-05</td>\n    </tr>\n    <tr>\n      <th>4</th>\n      <td>05753e3e926320eb2364c9da8df77c35</td>\n      <td>string</td>\n      <td>300</td>\n      <td>string</td>\n      <td>string</td>\n      <td>string</td>\n      <td>2019-12-30</td>\n    </tr>\n    <tr>\n      <th>5</th>\n      <td>05753e3e926320eb2364c9da8df77c35</td>\n      <td>string</td>\n      <td>4000</td>\n      <td>string</td>\n      <td>string</td>\n      <td>string</td>\n      <td>2020-10-05</td>\n    </tr>\n    <tr>\n      <th>6</th>\n      <td>05753e3e926320eb2364c9da8df77c35</td>\n      <td>string</td>\n      <td>14000</td>\n      <td>string</td>\n      <td>string</td>\n      <td>string</td>\n      <td>2020-09-05</td>\n    </tr>\n    <tr>\n      <th>7</th>\n      <td>05753e3e926320eb2364c9da8df77c35</td>\n      <td>string</td>\n      <td>4100</td>\n      <td>string</td>\n      <td>string</td>\n      <td>string</td>\n      <td>2020-07-05</td>\n    </tr>\n    <tr>\n      <th>8</th>\n      <td>05753e3e926320eb2364c9da8df77c35</td>\n      <td>string</td>\n      <td>4000</td>\n      <td>string</td>\n      <td>string</td>\n      <td>string</td>\n      <td>2020-06-05</td>\n    </tr>\n    <tr>\n      <th>9</th>\n      <td>05753e3e926320eb2364c9da8df77c35</td>\n      <td>string</td>\n      <td>4000</td>\n      <td>string</td>\n      <td>string</td>\n      <td>string</td>\n      <td>2020-04-05</td>\n    </tr>\n  </tbody>\n</table>\n</div>"
     },
     "execution_count": 21,
     "metadata": {},
     "output_type": "execute_result"
    }
   ],
   "source": [
    "df = pd.DataFrame(exp_list)\n",
    "df"
   ],
   "metadata": {
    "collapsed": false,
    "pycharm": {
     "name": "#%%\n"
    }
   }
  },
  {
   "cell_type": "code",
   "execution_count": 22,
   "outputs": [
    {
     "data": {
      "text/plain": "        date  amount\n0 2019-12-01     300\n1 2020-04-01    4000\n2 2020-06-01    4000\n3 2020-07-01    4100\n4 2020-09-01   14000\n5 2020-10-01    4000\n6 2020-11-01    8500",
      "text/html": "<div>\n<style scoped>\n    .dataframe tbody tr th:only-of-type {\n        vertical-align: middle;\n    }\n\n    .dataframe tbody tr th {\n        vertical-align: top;\n    }\n\n    .dataframe thead th {\n        text-align: right;\n    }\n</style>\n<table border=\"1\" class=\"dataframe\">\n  <thead>\n    <tr style=\"text-align: right;\">\n      <th></th>\n      <th>date</th>\n      <th>amount</th>\n    </tr>\n  </thead>\n  <tbody>\n    <tr>\n      <th>0</th>\n      <td>2019-12-01</td>\n      <td>300</td>\n    </tr>\n    <tr>\n      <th>1</th>\n      <td>2020-04-01</td>\n      <td>4000</td>\n    </tr>\n    <tr>\n      <th>2</th>\n      <td>2020-06-01</td>\n      <td>4000</td>\n    </tr>\n    <tr>\n      <th>3</th>\n      <td>2020-07-01</td>\n      <td>4100</td>\n    </tr>\n    <tr>\n      <th>4</th>\n      <td>2020-09-01</td>\n      <td>14000</td>\n    </tr>\n    <tr>\n      <th>5</th>\n      <td>2020-10-01</td>\n      <td>4000</td>\n    </tr>\n    <tr>\n      <th>6</th>\n      <td>2020-11-01</td>\n      <td>8500</td>\n    </tr>\n  </tbody>\n</table>\n</div>"
     },
     "execution_count": 22,
     "metadata": {},
     "output_type": "execute_result"
    }
   ],
   "source": [
    "from datetime import datetime, timedelta,date\n",
    "df['date'] = pd.to_datetime(df['date'])\n",
    "df['date'] = df['date'].dt.year.astype('str') + '-' + df['date'].dt.month.astype('str') + '-01'\n",
    "df['date'] = pd.to_datetime(df['date'])#groupby date and sum the sales\n",
    "df = df.groupby('date').amount.sum().reset_index()\n",
    "df"
   ],
   "metadata": {
    "collapsed": false,
    "pycharm": {
     "name": "#%%\n"
    }
   }
  },
  {
   "cell_type": "code",
   "execution_count": 14,
   "outputs": [],
   "source": [
    "%matplotlib inline\n",
    "import matplotlib.pyplot as plt\n",
    "\n",
    "#import Keras\n",
    "import keras\n",
    "from keras.layers import Dense\n",
    "from keras.models import Sequential\n",
    "from keras.optimizers import Adam\n",
    "from keras.callbacks import EarlyStopping\n",
    "from keras.utils import np_utils\n",
    "from keras.layers import LSTM\n",
    "from sklearn.model_selection import KFold, cross_val_score, train_test_split"
   ],
   "metadata": {
    "collapsed": false,
    "pycharm": {
     "name": "#%%\n"
    }
   }
  },
  {
   "cell_type": "code",
   "execution_count": 23,
   "outputs": [
    {
     "data": {
      "text/plain": "        date  amount  prev_amount     diff\n1 2020-04-01    4000        300.0   3700.0\n2 2020-06-01    4000       4000.0      0.0\n3 2020-07-01    4100       4000.0    100.0\n4 2020-09-01   14000       4100.0   9900.0\n5 2020-10-01    4000      14000.0 -10000.0\n6 2020-11-01    8500       4000.0   4500.0",
      "text/html": "<div>\n<style scoped>\n    .dataframe tbody tr th:only-of-type {\n        vertical-align: middle;\n    }\n\n    .dataframe tbody tr th {\n        vertical-align: top;\n    }\n\n    .dataframe thead th {\n        text-align: right;\n    }\n</style>\n<table border=\"1\" class=\"dataframe\">\n  <thead>\n    <tr style=\"text-align: right;\">\n      <th></th>\n      <th>date</th>\n      <th>amount</th>\n      <th>prev_amount</th>\n      <th>diff</th>\n    </tr>\n  </thead>\n  <tbody>\n    <tr>\n      <th>1</th>\n      <td>2020-04-01</td>\n      <td>4000</td>\n      <td>300.0</td>\n      <td>3700.0</td>\n    </tr>\n    <tr>\n      <th>2</th>\n      <td>2020-06-01</td>\n      <td>4000</td>\n      <td>4000.0</td>\n      <td>0.0</td>\n    </tr>\n    <tr>\n      <th>3</th>\n      <td>2020-07-01</td>\n      <td>4100</td>\n      <td>4000.0</td>\n      <td>100.0</td>\n    </tr>\n    <tr>\n      <th>4</th>\n      <td>2020-09-01</td>\n      <td>14000</td>\n      <td>4100.0</td>\n      <td>9900.0</td>\n    </tr>\n    <tr>\n      <th>5</th>\n      <td>2020-10-01</td>\n      <td>4000</td>\n      <td>14000.0</td>\n      <td>-10000.0</td>\n    </tr>\n    <tr>\n      <th>6</th>\n      <td>2020-11-01</td>\n      <td>8500</td>\n      <td>4000.0</td>\n      <td>4500.0</td>\n    </tr>\n  </tbody>\n</table>\n</div>"
     },
     "execution_count": 23,
     "metadata": {},
     "output_type": "execute_result"
    }
   ],
   "source": [
    "#create a new dataframe to model the difference\n",
    "df_diff = df.copy()#add previous sales to the next row\n",
    "df_diff['prev_amount'] = df_diff['amount'].shift(1)#drop the null values and calculate the difference\n",
    "df_diff = df_diff.dropna()\n",
    "df_diff['diff'] = (df_diff['amount'] - df_diff['prev_amount'])\n",
    "df_diff"
   ],
   "metadata": {
    "collapsed": false,
    "pycharm": {
     "name": "#%%\n"
    }
   }
  },
  {
   "cell_type": "code",
   "execution_count": 24,
   "outputs": [
    {
     "data": {
      "text/plain": "        date  amount     diff    lag_1   lag_2\n0 2020-07-01    4100    100.0      0.0  3700.0\n1 2020-09-01   14000   9900.0    100.0     0.0\n2 2020-10-01    4000 -10000.0   9900.0   100.0\n3 2020-11-01    8500   4500.0 -10000.0  9900.0",
      "text/html": "<div>\n<style scoped>\n    .dataframe tbody tr th:only-of-type {\n        vertical-align: middle;\n    }\n\n    .dataframe tbody tr th {\n        vertical-align: top;\n    }\n\n    .dataframe thead th {\n        text-align: right;\n    }\n</style>\n<table border=\"1\" class=\"dataframe\">\n  <thead>\n    <tr style=\"text-align: right;\">\n      <th></th>\n      <th>date</th>\n      <th>amount</th>\n      <th>diff</th>\n      <th>lag_1</th>\n      <th>lag_2</th>\n    </tr>\n  </thead>\n  <tbody>\n    <tr>\n      <th>0</th>\n      <td>2020-07-01</td>\n      <td>4100</td>\n      <td>100.0</td>\n      <td>0.0</td>\n      <td>3700.0</td>\n    </tr>\n    <tr>\n      <th>1</th>\n      <td>2020-09-01</td>\n      <td>14000</td>\n      <td>9900.0</td>\n      <td>100.0</td>\n      <td>0.0</td>\n    </tr>\n    <tr>\n      <th>2</th>\n      <td>2020-10-01</td>\n      <td>4000</td>\n      <td>-10000.0</td>\n      <td>9900.0</td>\n      <td>100.0</td>\n    </tr>\n    <tr>\n      <th>3</th>\n      <td>2020-11-01</td>\n      <td>8500</td>\n      <td>4500.0</td>\n      <td>-10000.0</td>\n      <td>9900.0</td>\n    </tr>\n  </tbody>\n</table>\n</div>"
     },
     "execution_count": 24,
     "metadata": {},
     "output_type": "execute_result"
    }
   ],
   "source": [
    "\n",
    "#create dataframe for transformation from time series to supervised\n",
    "df_supervised = df_diff.drop(['prev_amount'],axis=1)#adding lags\n",
    "for inc in range(1,4):\n",
    "    field_name = 'lag_' + str(inc)\n",
    "    df_supervised[field_name] = df_supervised['diff'].shift(inc)#drop null values\n",
    "df_supervised = df_supervised.dropna().reset_index(drop=True)\n",
    "df_supervised"
   ],
   "metadata": {
    "collapsed": false,
    "pycharm": {
     "name": "#%%\n"
    }
   }
  },
  {
   "cell_type": "code",
   "execution_count": 25,
   "outputs": [
    {
     "name": "stdout",
     "output_type": "stream",
     "text": [
      "0.22662868489529997\n"
     ]
    }
   ],
   "source": [
    "# Import statsmodels.formula.api\n",
    "import statsmodels.formula.api as smf# Define the regression formula\n",
    "model = smf.ols(formula='diff ~ lag_1', data=df_supervised)# Fit the regression\n",
    "model_fit = model.fit()# Extract the adjusted r-squared\n",
    "regression_adj_rsq = model_fit.rsquared_adj\n",
    "print(regression_adj_rsq)"
   ],
   "metadata": {
    "collapsed": false,
    "pycharm": {
     "name": "#%%\n"
    }
   }
  },
  {
   "cell_type": "code",
   "execution_count": 26,
   "outputs": [],
   "source": [
    "#import MinMaxScaler and create a new dataframe for LSTM model\n",
    "from sklearn.preprocessing import MinMaxScaler\n",
    "df_model = df_supervised.drop(['amount','date'],axis=1)#split train and test set\n",
    "train_set, test_set = df_model[0:-2].values, df_model[-2:].values"
   ],
   "metadata": {
    "collapsed": false,
    "pycharm": {
     "name": "#%%\n"
    }
   }
  },
  {
   "cell_type": "code",
   "execution_count": 27,
   "outputs": [],
   "source": [
    "#apply Min Max Scaler\n",
    "scaler = MinMaxScaler(feature_range=(-1, 1))\n",
    "scaler = scaler.fit(train_set)\n",
    "# reshape training set\n",
    "train_set = train_set.reshape(train_set.shape[0], train_set.shape[1])\n",
    "train_set_scaled = scaler.transform(train_set)# reshape test set\n",
    "test_set = test_set.reshape(test_set.shape[0], test_set.shape[1])\n",
    "test_set_scaled = scaler.transform(test_set)"
   ],
   "metadata": {
    "collapsed": false,
    "pycharm": {
     "name": "#%%\n"
    }
   }
  },
  {
   "cell_type": "code",
   "execution_count": 30,
   "outputs": [],
   "source": [
    "X_train= train_set_scaled[:, 1:]\n",
    "y_train =  train_set_scaled[:, 0:1]\n",
    "X_train = X_train.reshape(X_train.shape[0], 1, X_train.shape[1])"
   ],
   "metadata": {
    "collapsed": false,
    "pycharm": {
     "name": "#%%\n"
    }
   }
  },
  {
   "cell_type": "code",
   "execution_count": 32,
   "outputs": [
    {
     "name": "stdout",
     "output_type": "stream",
     "text": [
      "Epoch 1/10\n",
      "2/2 [==============================] - 0s 1ms/step - loss: 0.9926\b\b\b\b\b\b\b\b\b\b\b\b\b\b\b\b\b\b\b\b\b\b\b\b\b\b\b\b\b\b\b\b\b\b\b\b\b\b\b\b\b\b\b\b\b\b\b\b\b\b\b\b\b\b\b\b\b\n",
      "Epoch 2/10\n",
      "2/2 [==============================] - 0s 2ms/step - loss: 0.9754\b\b\b\b\b\b\b\b\b\b\b\b\b\b\b\b\b\b\b\b\b\b\b\b\b\b\b\b\b\b\b\b\b\b\b\b\b\b\b\b\b\b\b\b\b\b\b\b\b\b\b\b\b\b\b\b\b\n",
      "Epoch 3/10\n",
      "2/2 [==============================] - 0s 1ms/step - loss: 0.9635\b\b\b\b\b\b\b\b\b\b\b\b\b\b\b\b\b\b\b\b\b\b\b\b\b\b\b\b\b\b\b\b\b\b\b\b\b\b\b\b\b\b\b\b\b\b\b\b\b\b\b\b\b\b\b\b\b\n",
      "Epoch 4/10\n",
      "2/2 [==============================] - 0s 1ms/step - loss: 0.9552\b\b\b\b\b\b\b\b\b\b\b\b\b\b\b\b\b\b\b\b\b\b\b\b\b\b\b\b\b\b\b\b\b\b\b\b\b\b\b\b\b\b\b\b\b\b\b\b\b\b\b\b\b\b\b\b\b\n",
      "Epoch 5/10\n",
      "2/2 [==============================] - 0s 3ms/step - loss: 0.9486\b\b\b\b\b\b\b\b\b\b\b\b\b\b\b\b\b\b\b\b\b\b\b\b\b\b\b\b\b\b\b\b\b\b\b\b\b\b\b\b\b\b\b\b\b\b\b\b\b\b\b\b\b\b\b\b\b\n",
      "Epoch 6/10\n",
      "2/2 [==============================] - 0s 1ms/step - loss: 0.9428\b\b\b\b\b\b\b\b\b\b\b\b\b\b\b\b\b\b\b\b\b\b\b\b\b\b\b\b\b\b\b\b\b\b\b\b\b\b\b\b\b\b\b\b\b\b\b\b\b\b\b\b\b\b\b\b\b\n",
      "Epoch 7/10\n",
      "2/2 [==============================] - 0s 2ms/step - loss: 0.9373\b\b\b\b\b\b\b\b\b\b\b\b\b\b\b\b\b\b\b\b\b\b\b\b\b\b\b\b\b\b\b\b\b\b\b\b\b\b\b\b\b\b\b\b\b\b\b\b\b\b\b\b\b\b\b\b\b\n",
      "Epoch 8/10\n",
      "2/2 [==============================] - 0s 1ms/step - loss: 0.9320\b\b\b\b\b\b\b\b\b\b\b\b\b\b\b\b\b\b\b\b\b\b\b\b\b\b\b\b\b\b\b\b\b\b\b\b\b\b\b\b\b\b\b\b\b\b\b\b\b\b\b\b\b\b\b\b\b\n",
      "Epoch 9/10\n",
      "2/2 [==============================] - 0s 1ms/step - loss: 0.9268\b\b\b\b\b\b\b\b\b\b\b\b\b\b\b\b\b\b\b\b\b\b\b\b\b\b\b\b\b\b\b\b\b\b\b\b\b\b\b\b\b\b\b\b\b\b\b\b\b\b\b\b\b\b\b\b\b\n",
      "Epoch 10/10\n",
      "2/2 [==============================] - 0s 1ms/step - loss: 0.9216\b\b\b\b\b\b\b\b\b\b\b\b\b\b\b\b\b\b\b\b\b\b\b\b\b\b\b\b\b\b\b\b\b\b\b\b\b\b\b\b\b\b\b\b\b\b\b\b\b\b\b\b\b\b\b\b\b\n"
     ]
    },
    {
     "data": {
      "text/plain": "<tensorflow.python.keras.callbacks.History at 0x7f3ee4466550>"
     },
     "execution_count": 32,
     "metadata": {},
     "output_type": "execute_result"
    }
   ],
   "source": [
    "model = Sequential()\n",
    "model.add(LSTM(4, batch_input_shape=(1, X_train.shape[1], X_train.shape[2]), stateful=True))\n",
    "model.add(Dense(1))\n",
    "model.compile(loss='mean_squared_error', optimizer='adam')\n",
    "model.fit(X_train, y_train, epochs=10, batch_size=1, verbose=1, shuffle=False)"
   ],
   "metadata": {
    "collapsed": false,
    "pycharm": {
     "name": "#%%\n"
    }
   }
  },
  {
   "cell_type": "code",
   "execution_count": 33,
   "outputs": [],
   "source": [
    "X_test, y_test = test_set_scaled[:, 1:], test_set_scaled[:, 0:1]\n",
    "X_test = X_test.reshape(X_test.shape[0], 1, X_test.shape[1])\n",
    "\n",
    "y_pred = model.predict(X_test,batch_size=1)#for multistep prediction, you need to replace X_test values with the predictions coming from t-1"
   ],
   "metadata": {
    "collapsed": false,
    "pycharm": {
     "name": "#%%\n"
    }
   }
  },
  {
   "cell_type": "code",
   "execution_count": 34,
   "outputs": [
    {
     "name": "stdout",
     "output_type": "stream",
     "text": [
      "[[ -0.65884137 197.          -0.94594595]]\n",
      "[[   0.73503917 -201.            4.35135135]]\n"
     ]
    }
   ],
   "source": [
    "import numpy as np\n",
    "#reshape y_pred\n",
    "y_pred = y_pred.reshape(y_pred.shape[0], 1, y_pred.shape[1])#rebuild test set for inverse transform\n",
    "pred_test_set = []\n",
    "for index in range(0,len(y_pred)):\n",
    "    print(np.concatenate([y_pred[index],X_test[index]],axis=1))\n",
    "    pred_test_set.append(np.concatenate([y_pred[index],X_test[index]],axis=1))#reshape pred_test_set\n",
    "pred_test_set = np.array(pred_test_set)\n",
    "pred_test_set = pred_test_set.reshape(pred_test_set.shape[0], pred_test_set.shape[2])#inverse transform\n",
    "pred_test_set_inverted = scaler.inverse_transform(pred_test_set)"
   ],
   "metadata": {
    "collapsed": false,
    "pycharm": {
     "name": "#%%\n"
    }
   }
  },
  {
   "cell_type": "code",
   "execution_count": 35,
   "outputs": [],
   "source": [
    "#create dataframe that shows the predicted sales\n",
    "result_list = []\n",
    "sales_dates = list(df[-7:].date)\n",
    "act_sales = list(df[-7:].amount)\n",
    "for index in range(0,len(pred_test_set_inverted)):\n",
    "    result_dict = {}\n",
    "    result_dict['pred_value'] = int(pred_test_set_inverted[index][0] + act_sales[index])\n",
    "    result_dict['date'] = sales_dates[index+1]\n",
    "    result_list.append(result_dict)\n",
    "df_result = pd.DataFrame(result_list)#for multistep prediction, replace act_sales with the predicted sales"
   ],
   "metadata": {
    "collapsed": false,
    "pycharm": {
     "name": "#%%\n"
    }
   }
  },
  {
   "cell_type": "code",
   "execution_count": 37,
   "outputs": [
    {
     "data": {
      "text/plain": "   pred_value       date\n0        2071 2020-04-01\n1       12601 2020-06-01",
      "text/html": "<div>\n<style scoped>\n    .dataframe tbody tr th:only-of-type {\n        vertical-align: middle;\n    }\n\n    .dataframe tbody tr th {\n        vertical-align: top;\n    }\n\n    .dataframe thead th {\n        text-align: right;\n    }\n</style>\n<table border=\"1\" class=\"dataframe\">\n  <thead>\n    <tr style=\"text-align: right;\">\n      <th></th>\n      <th>pred_value</th>\n      <th>date</th>\n    </tr>\n  </thead>\n  <tbody>\n    <tr>\n      <th>0</th>\n      <td>2071</td>\n      <td>2020-04-01</td>\n    </tr>\n    <tr>\n      <th>1</th>\n      <td>12601</td>\n      <td>2020-06-01</td>\n    </tr>\n  </tbody>\n</table>\n</div>"
     },
     "execution_count": 37,
     "metadata": {},
     "output_type": "execute_result"
    }
   ],
   "source": [
    "df_result"
   ],
   "metadata": {
    "collapsed": false,
    "pycharm": {
     "name": "#%%\n"
    }
   }
  },
  {
   "cell_type": "code",
   "execution_count": 51,
   "outputs": [
    {
     "data": {
      "text/plain": "<?xml version=\"1.0\" ?>\n<response>\n<data>\n<point>\n<x>Jan</x>\n<y>100</y>\n</point>\n<point>\n<x>Feb</x>\n<y>200</y>\n</point>\n<point>\n<x>Mar</x>\n<y>300</y>\n</point>\n<point>\n<x>Apr</x>\n<y>400</y>\n</point>\n<point>\n<x>May</x>\n<y>500</y>\n</point>\n</data>\n<EndIndex>3</EndIndex>\n</response>"
     },
     "execution_count": 51,
     "metadata": {},
     "output_type": "execute_result"
    }
   ],
   "source": [
    "from core.transformer import XmlTransformer\n",
    "data = {\n",
    "   \"point\": [\n",
    "      {\n",
    "         \"x\": \"Jan\",\n",
    "         \"y\": \"100\"\n",
    "      },\n",
    "      {\n",
    "         \"x\": \"Feb\",\n",
    "         \"y\": \"200\"\n",
    "      },\n",
    "      {\n",
    "         \"x\": \"Mar\",\n",
    "         \"y\": \"300\"\n",
    "      },\n",
    "      {\n",
    "         \"x\": \"Apr\",\n",
    "         \"y\": \"400\"\n",
    "      },\n",
    "      {\n",
    "         \"x\": \"May\",\n",
    "         \"y\": \"500\"\n",
    "      }\n",
    "   ],\n",
    "}\n",
    "d = {\"data\":data, \"EndIndex\": \"3\"}\n",
    "XmlTransformer(d)"
   ],
   "metadata": {
    "collapsed": false,
    "pycharm": {
     "name": "#%%\n"
    }
   }
  },
  {
   "cell_type": "code",
   "execution_count": 83,
   "outputs": [
    {
     "data": {
      "text/plain": "[{'x': Timestamp('2020-04-01 00:00:00'), 'y': 2071},\n {'x': Timestamp('2020-06-01 00:00:00'), 'y': 12601}]"
     },
     "execution_count": 83,
     "metadata": {},
     "output_type": "execute_result"
    }
   ],
   "source": [
    "df_result_1 = df_result.copy()\n",
    "df_result_1[\"x\"]= df_result['date']\n",
    "df_result_1[\"y\"]= df_result['pred_value']\n",
    "df_result_1 = df_result_1.drop(columns=[\"date\",\"pred_value\"],axis=0)\n",
    "df_result_1.to_dict(orient='records')"
   ],
   "metadata": {
    "collapsed": false,
    "pycharm": {
     "name": "#%%\n"
    }
   }
  },
  {
   "cell_type": "markdown",
   "source": [
    "# For API"
   ],
   "metadata": {
    "collapsed": false
   }
  },
  {
   "cell_type": "code",
   "execution_count": 113,
   "outputs": [],
   "source": [
    "df = pd.DataFrame(exp_list)\n",
    "df['date'] = pd.to_datetime(df['date'])\n",
    "df['date'] = df['date'].dt.year.astype('str') + '-' + df['date'].dt.month.astype('str') + '-01'\n",
    "df['date'] = pd.to_datetime(df['date'])#groupby date and sum the sales\n",
    "df = df.groupby('date').amount.sum().reset_index()"
   ],
   "metadata": {
    "collapsed": false,
    "pycharm": {
     "name": "#%%\n"
    }
   }
  },
  {
   "cell_type": "code",
   "execution_count": 114,
   "outputs": [],
   "source": [
    "latest_dt = df['date'].max()"
   ],
   "metadata": {
    "collapsed": false,
    "pycharm": {
     "name": "#%%\n"
    }
   }
  },
  {
   "cell_type": "code",
   "execution_count": 115,
   "outputs": [
    {
     "data": {
      "text/plain": "        date  amount\n0 2020-11-30       0\n1 2020-12-31       0\n2 2021-01-31       0\n3 2021-02-28       0\n4 2021-03-31       0\n5 2021-04-30       0",
      "text/html": "<div>\n<style scoped>\n    .dataframe tbody tr th:only-of-type {\n        vertical-align: middle;\n    }\n\n    .dataframe tbody tr th {\n        vertical-align: top;\n    }\n\n    .dataframe thead th {\n        text-align: right;\n    }\n</style>\n<table border=\"1\" class=\"dataframe\">\n  <thead>\n    <tr style=\"text-align: right;\">\n      <th></th>\n      <th>date</th>\n      <th>amount</th>\n    </tr>\n  </thead>\n  <tbody>\n    <tr>\n      <th>0</th>\n      <td>2020-11-30</td>\n      <td>0</td>\n    </tr>\n    <tr>\n      <th>1</th>\n      <td>2020-12-31</td>\n      <td>0</td>\n    </tr>\n    <tr>\n      <th>2</th>\n      <td>2021-01-31</td>\n      <td>0</td>\n    </tr>\n    <tr>\n      <th>3</th>\n      <td>2021-02-28</td>\n      <td>0</td>\n    </tr>\n    <tr>\n      <th>4</th>\n      <td>2021-03-31</td>\n      <td>0</td>\n    </tr>\n    <tr>\n      <th>5</th>\n      <td>2021-04-30</td>\n      <td>0</td>\n    </tr>\n  </tbody>\n</table>\n</div>"
     },
     "execution_count": 115,
     "metadata": {},
     "output_type": "execute_result"
    }
   ],
   "source": [
    "datetime_series = pd.Series(\n",
    "    pd.date_range(latest_dt, periods=6, freq=\"M\")\n",
    ")\n",
    "df_test = pd.DataFrame()\n",
    "df_test['date'] = datetime_series\n",
    "df_test['amount'] = 0\n",
    "df_test"
   ],
   "metadata": {
    "collapsed": false,
    "pycharm": {
     "name": "#%%\n"
    }
   }
  },
  {
   "cell_type": "code",
   "execution_count": 118,
   "outputs": [
    {
     "data": {
      "text/plain": "        date  amount     diff    lag_1   lag_2   lag_3\n0 2020-09-01   14000   9900.0    100.0     0.0  3700.0\n1 2020-10-01    4000 -10000.0   9900.0   100.0     0.0\n2 2020-11-01    8500   4500.0 -10000.0  9900.0   100.0",
      "text/html": "<div>\n<style scoped>\n    .dataframe tbody tr th:only-of-type {\n        vertical-align: middle;\n    }\n\n    .dataframe tbody tr th {\n        vertical-align: top;\n    }\n\n    .dataframe thead th {\n        text-align: right;\n    }\n</style>\n<table border=\"1\" class=\"dataframe\">\n  <thead>\n    <tr style=\"text-align: right;\">\n      <th></th>\n      <th>date</th>\n      <th>amount</th>\n      <th>diff</th>\n      <th>lag_1</th>\n      <th>lag_2</th>\n      <th>lag_3</th>\n    </tr>\n  </thead>\n  <tbody>\n    <tr>\n      <th>0</th>\n      <td>2020-09-01</td>\n      <td>14000</td>\n      <td>9900.0</td>\n      <td>100.0</td>\n      <td>0.0</td>\n      <td>3700.0</td>\n    </tr>\n    <tr>\n      <th>1</th>\n      <td>2020-10-01</td>\n      <td>4000</td>\n      <td>-10000.0</td>\n      <td>9900.0</td>\n      <td>100.0</td>\n      <td>0.0</td>\n    </tr>\n    <tr>\n      <th>2</th>\n      <td>2020-11-01</td>\n      <td>8500</td>\n      <td>4500.0</td>\n      <td>-10000.0</td>\n      <td>9900.0</td>\n      <td>100.0</td>\n    </tr>\n  </tbody>\n</table>\n</div>"
     },
     "execution_count": 118,
     "metadata": {},
     "output_type": "execute_result"
    }
   ],
   "source": [
    "#create a new dataframe to model the difference\n",
    "df_diff = df.copy()\n",
    "df_diff['prev_amount'] = df_diff['amount'].shift(1)#drop the null values and calculate the difference\n",
    "df_diff = df_diff.dropna()\n",
    "df_diff['diff'] = (df_diff['amount'] - df_diff['prev_amount'])\n",
    "df_supervised = df_diff.drop(['prev_amount'],axis=1)#adding lags\n",
    "#add previous sales to the next row\n",
    "for inc in range(1,4):\n",
    "    field_name = 'lag_' + str(inc)\n",
    "    df_supervised[field_name] = df_supervised['diff'].shift(inc)#drop null values\n",
    "\n",
    "df_supervised = df_supervised.dropna().reset_index(drop=True)\n",
    "df_supervised"
   ],
   "metadata": {
    "collapsed": false,
    "pycharm": {
     "name": "#%%\n"
    }
   }
  },
  {
   "cell_type": "code",
   "execution_count": 121,
   "outputs": [
    {
     "ename": "TypeError",
     "evalue": "float() argument must be a string or a number, not 'Timestamp'",
     "output_type": "error",
     "traceback": [
      "\u001B[0;31m---------------------------------------------------------------------------\u001B[0m",
      "\u001B[0;31mTypeError\u001B[0m                                 Traceback (most recent call last)",
      "\u001B[0;32m<ipython-input-121-89991563ac2f>\u001B[0m in \u001B[0;36m<module>\u001B[0;34m\u001B[0m\n\u001B[1;32m     15\u001B[0m \u001B[0mtrain_set_scaled\u001B[0m \u001B[0;34m=\u001B[0m \u001B[0mscaler\u001B[0m\u001B[0;34m.\u001B[0m\u001B[0mtransform\u001B[0m\u001B[0;34m(\u001B[0m\u001B[0mtrain_set\u001B[0m\u001B[0;34m)\u001B[0m\u001B[0;31m# reshape test set\u001B[0m\u001B[0;34m\u001B[0m\u001B[0;34m\u001B[0m\u001B[0m\n\u001B[1;32m     16\u001B[0m \u001B[0mtest_set\u001B[0m \u001B[0;34m=\u001B[0m \u001B[0mtest_set\u001B[0m\u001B[0;34m.\u001B[0m\u001B[0mreshape\u001B[0m\u001B[0;34m(\u001B[0m\u001B[0mtest_set\u001B[0m\u001B[0;34m.\u001B[0m\u001B[0mshape\u001B[0m\u001B[0;34m[\u001B[0m\u001B[0;36m0\u001B[0m\u001B[0;34m]\u001B[0m\u001B[0;34m,\u001B[0m \u001B[0mtest_set\u001B[0m\u001B[0;34m.\u001B[0m\u001B[0mshape\u001B[0m\u001B[0;34m[\u001B[0m\u001B[0;36m1\u001B[0m\u001B[0;34m]\u001B[0m\u001B[0;34m)\u001B[0m\u001B[0;34m\u001B[0m\u001B[0;34m\u001B[0m\u001B[0m\n\u001B[0;32m---> 17\u001B[0;31m \u001B[0mtest_set_scaled\u001B[0m \u001B[0;34m=\u001B[0m \u001B[0mscaler\u001B[0m\u001B[0;34m.\u001B[0m\u001B[0mtransform\u001B[0m\u001B[0;34m(\u001B[0m\u001B[0mtest_set\u001B[0m\u001B[0;34m)\u001B[0m\u001B[0;34m\u001B[0m\u001B[0;34m\u001B[0m\u001B[0m\n\u001B[0m\u001B[1;32m     18\u001B[0m \u001B[0;34m\u001B[0m\u001B[0m\n\u001B[1;32m     19\u001B[0m \u001B[0;34m\u001B[0m\u001B[0m\n",
      "\u001B[0;32m~/PycharmProjects/greevil-app/venv/lib/python3.8/site-packages/sklearn/preprocessing/_data.py\u001B[0m in \u001B[0;36mtransform\u001B[0;34m(self, X)\u001B[0m\n\u001B[1;32m    405\u001B[0m         \u001B[0mcheck_is_fitted\u001B[0m\u001B[0;34m(\u001B[0m\u001B[0mself\u001B[0m\u001B[0;34m)\u001B[0m\u001B[0;34m\u001B[0m\u001B[0;34m\u001B[0m\u001B[0m\n\u001B[1;32m    406\u001B[0m \u001B[0;34m\u001B[0m\u001B[0m\n\u001B[0;32m--> 407\u001B[0;31m         X = check_array(X, copy=self.copy, dtype=FLOAT_DTYPES,\n\u001B[0m\u001B[1;32m    408\u001B[0m                         force_all_finite=\"allow-nan\")\n\u001B[1;32m    409\u001B[0m \u001B[0;34m\u001B[0m\u001B[0m\n",
      "\u001B[0;32m~/PycharmProjects/greevil-app/venv/lib/python3.8/site-packages/sklearn/utils/validation.py\u001B[0m in \u001B[0;36minner_f\u001B[0;34m(*args, **kwargs)\u001B[0m\n\u001B[1;32m     70\u001B[0m                           FutureWarning)\n\u001B[1;32m     71\u001B[0m         \u001B[0mkwargs\u001B[0m\u001B[0;34m.\u001B[0m\u001B[0mupdate\u001B[0m\u001B[0;34m(\u001B[0m\u001B[0;34m{\u001B[0m\u001B[0mk\u001B[0m\u001B[0;34m:\u001B[0m \u001B[0marg\u001B[0m \u001B[0;32mfor\u001B[0m \u001B[0mk\u001B[0m\u001B[0;34m,\u001B[0m \u001B[0marg\u001B[0m \u001B[0;32min\u001B[0m \u001B[0mzip\u001B[0m\u001B[0;34m(\u001B[0m\u001B[0msig\u001B[0m\u001B[0;34m.\u001B[0m\u001B[0mparameters\u001B[0m\u001B[0;34m,\u001B[0m \u001B[0margs\u001B[0m\u001B[0;34m)\u001B[0m\u001B[0;34m}\u001B[0m\u001B[0;34m)\u001B[0m\u001B[0;34m\u001B[0m\u001B[0;34m\u001B[0m\u001B[0m\n\u001B[0;32m---> 72\u001B[0;31m         \u001B[0;32mreturn\u001B[0m \u001B[0mf\u001B[0m\u001B[0;34m(\u001B[0m\u001B[0;34m**\u001B[0m\u001B[0mkwargs\u001B[0m\u001B[0;34m)\u001B[0m\u001B[0;34m\u001B[0m\u001B[0;34m\u001B[0m\u001B[0m\n\u001B[0m\u001B[1;32m     73\u001B[0m     \u001B[0;32mreturn\u001B[0m \u001B[0minner_f\u001B[0m\u001B[0;34m\u001B[0m\u001B[0;34m\u001B[0m\u001B[0m\n\u001B[1;32m     74\u001B[0m \u001B[0;34m\u001B[0m\u001B[0m\n",
      "\u001B[0;32m~/PycharmProjects/greevil-app/venv/lib/python3.8/site-packages/sklearn/utils/validation.py\u001B[0m in \u001B[0;36mcheck_array\u001B[0;34m(array, accept_sparse, accept_large_sparse, dtype, order, copy, force_all_finite, ensure_2d, allow_nd, ensure_min_samples, ensure_min_features, estimator)\u001B[0m\n\u001B[1;32m    596\u001B[0m                     \u001B[0marray\u001B[0m \u001B[0;34m=\u001B[0m \u001B[0marray\u001B[0m\u001B[0;34m.\u001B[0m\u001B[0mastype\u001B[0m\u001B[0;34m(\u001B[0m\u001B[0mdtype\u001B[0m\u001B[0;34m,\u001B[0m \u001B[0mcasting\u001B[0m\u001B[0;34m=\u001B[0m\u001B[0;34m\"unsafe\"\u001B[0m\u001B[0;34m,\u001B[0m \u001B[0mcopy\u001B[0m\u001B[0;34m=\u001B[0m\u001B[0;32mFalse\u001B[0m\u001B[0;34m)\u001B[0m\u001B[0;34m\u001B[0m\u001B[0;34m\u001B[0m\u001B[0m\n\u001B[1;32m    597\u001B[0m                 \u001B[0;32melse\u001B[0m\u001B[0;34m:\u001B[0m\u001B[0;34m\u001B[0m\u001B[0;34m\u001B[0m\u001B[0m\n\u001B[0;32m--> 598\u001B[0;31m                     \u001B[0marray\u001B[0m \u001B[0;34m=\u001B[0m \u001B[0mnp\u001B[0m\u001B[0;34m.\u001B[0m\u001B[0masarray\u001B[0m\u001B[0;34m(\u001B[0m\u001B[0marray\u001B[0m\u001B[0;34m,\u001B[0m \u001B[0morder\u001B[0m\u001B[0;34m=\u001B[0m\u001B[0morder\u001B[0m\u001B[0;34m,\u001B[0m \u001B[0mdtype\u001B[0m\u001B[0;34m=\u001B[0m\u001B[0mdtype\u001B[0m\u001B[0;34m)\u001B[0m\u001B[0;34m\u001B[0m\u001B[0;34m\u001B[0m\u001B[0m\n\u001B[0m\u001B[1;32m    599\u001B[0m             \u001B[0;32mexcept\u001B[0m \u001B[0mComplexWarning\u001B[0m\u001B[0;34m:\u001B[0m\u001B[0;34m\u001B[0m\u001B[0;34m\u001B[0m\u001B[0m\n\u001B[1;32m    600\u001B[0m                 raise ValueError(\"Complex data not supported\\n\"\n",
      "\u001B[0;32m~/PycharmProjects/greevil-app/venv/lib/python3.8/site-packages/numpy/core/_asarray.py\u001B[0m in \u001B[0;36masarray\u001B[0;34m(a, dtype, order)\u001B[0m\n\u001B[1;32m     81\u001B[0m     \u001B[0;34m>>\u001B[0m\u001B[0;34m>\u001B[0m \u001B[0mnp\u001B[0m\u001B[0;34m.\u001B[0m\u001B[0masanyarray\u001B[0m\u001B[0;34m(\u001B[0m\u001B[0ma\u001B[0m\u001B[0;34m)\u001B[0m \u001B[0;32mis\u001B[0m \u001B[0ma\u001B[0m\u001B[0;34m\u001B[0m\u001B[0;34m\u001B[0m\u001B[0m\n\u001B[1;32m     82\u001B[0m     \u001B[0;32mTrue\u001B[0m\u001B[0;34m\u001B[0m\u001B[0;34m\u001B[0m\u001B[0m\n\u001B[0;32m---> 83\u001B[0;31m \u001B[0;34m\u001B[0m\u001B[0m\n\u001B[0m\u001B[1;32m     84\u001B[0m     \"\"\"\n\u001B[1;32m     85\u001B[0m     \u001B[0;32mreturn\u001B[0m \u001B[0marray\u001B[0m\u001B[0;34m(\u001B[0m\u001B[0ma\u001B[0m\u001B[0;34m,\u001B[0m \u001B[0mdtype\u001B[0m\u001B[0;34m,\u001B[0m \u001B[0mcopy\u001B[0m\u001B[0;34m=\u001B[0m\u001B[0;32mFalse\u001B[0m\u001B[0;34m,\u001B[0m \u001B[0morder\u001B[0m\u001B[0;34m=\u001B[0m\u001B[0morder\u001B[0m\u001B[0;34m)\u001B[0m\u001B[0;34m\u001B[0m\u001B[0;34m\u001B[0m\u001B[0m\n",
      "\u001B[0;31mTypeError\u001B[0m: float() argument must be a string or a number, not 'Timestamp'"
     ]
    }
   ],
   "source": [
    "from keras.layers import Dense\n",
    "from keras.models import Sequential\n",
    "from keras.layers import LSTM\n",
    "from sklearn.preprocessing import MinMaxScaler\n",
    "\n",
    "df_model = df_supervised.drop(['amount','date'],axis=1)#split train and test set\n",
    "# train_set, test_set = df_model[0:-3].values, df_model[-3:].values\n",
    "train_set = df_model.values\n",
    "test_set = df_test.values\n",
    "\n",
    "scaler = MinMaxScaler(feature_range=(-1, 1))\n",
    "scaler = scaler.fit(train_set)\n",
    "# reshape training set\n",
    "train_set = train_set.reshape(train_set.shape[0], train_set.shape[1])\n",
    "train_set_scaled = scaler.transform(train_set)\n",
    "# reshape test set\n",
    "test_set = test_set.reshape(test_set.shape[0], test_set.shape[1])\n",
    "test_set_scaled = scaler.transform(test_set)\n",
    "\n",
    "\n",
    "X_train= train_set_scaled[:, 1:]\n",
    "y_train =  train_set_scaled[:, 0:1]\n",
    "X_train = X_train.reshape(X_train.shape[0], 1, X_train.shape[1])"
   ],
   "metadata": {
    "collapsed": false,
    "pycharm": {
     "name": "#%%\n"
    }
   }
  },
  {
   "cell_type": "code",
   "execution_count": null,
   "outputs": [],
   "source": [
    "model = Sequential()\n",
    "model.add(LSTM(4, batch_input_shape=(1, X_train.shape[1], X_train.shape[2]), stateful=True))\n",
    "model.add(Dense(1))\n",
    "model.compile(loss='mean_squared_error', optimizer='adam')\n",
    "model.fit(X_train, y_train, epochs=10, batch_size=1, verbose=1, shuffle=False)"
   ],
   "metadata": {
    "collapsed": false,
    "pycharm": {
     "name": "#%%\n"
    }
   }
  },
  {
   "cell_type": "code",
   "execution_count": null,
   "outputs": [],
   "source": [
    "X_test, y_test = test_set_scaled[:, 1:], test_set_scaled[:, 0:1]\n",
    "X_test = X_test.reshape(X_test.shape[0], 1, X_test.shape[1])\n",
    "\n",
    "y_pred = model.predict(X_test,batch_size=1)#for multistep prediction, you need to replace X_test values with the predictions coming from t-1"
   ],
   "metadata": {
    "collapsed": false,
    "pycharm": {
     "name": "#%%\n"
    }
   }
  },
  {
   "cell_type": "code",
   "execution_count": null,
   "outputs": [],
   "source": [
    "import numpy as np\n",
    "#reshape y_pred\n",
    "y_pred = y_pred.reshape(y_pred.shape[0], 1, y_pred.shape[1])#rebuild test set for inverse transform\n",
    "pred_test_set = []\n",
    "for index in range(0,len(y_pred)):\n",
    "    print(np.concatenate([y_pred[index],X_test[index]],axis=1))\n",
    "    pred_test_set.append(np.concatenate([y_pred[index],X_test[index]],axis=1))#reshape pred_test_set\n",
    "pred_test_set = np.array(pred_test_set)\n",
    "pred_test_set = pred_test_set.reshape(pred_test_set.shape[0], pred_test_set.shape[2])#inverse transform\n",
    "pred_test_set_inverted = scaler.inverse_transform(pred_test_set)"
   ],
   "metadata": {
    "collapsed": false,
    "pycharm": {
     "name": "#%%\n"
    }
   }
  },
  {
   "cell_type": "code",
   "source": [
    "df_model\n"
   ],
   "metadata": {
    "collapsed": false,
    "pycharm": {
     "name": "#%%\n"
    }
   },
   "execution_count": 106,
   "outputs": [
    {
     "data": {
      "text/plain": "      diff    lag_1   lag_2\n0    100.0      0.0  3700.0\n1   9900.0    100.0     0.0\n2 -10000.0   9900.0   100.0\n3   4500.0 -10000.0  9900.0",
      "text/html": "<div>\n<style scoped>\n    .dataframe tbody tr th:only-of-type {\n        vertical-align: middle;\n    }\n\n    .dataframe tbody tr th {\n        vertical-align: top;\n    }\n\n    .dataframe thead th {\n        text-align: right;\n    }\n</style>\n<table border=\"1\" class=\"dataframe\">\n  <thead>\n    <tr style=\"text-align: right;\">\n      <th></th>\n      <th>diff</th>\n      <th>lag_1</th>\n      <th>lag_2</th>\n    </tr>\n  </thead>\n  <tbody>\n    <tr>\n      <th>0</th>\n      <td>100.0</td>\n      <td>0.0</td>\n      <td>3700.0</td>\n    </tr>\n    <tr>\n      <th>1</th>\n      <td>9900.0</td>\n      <td>100.0</td>\n      <td>0.0</td>\n    </tr>\n    <tr>\n      <th>2</th>\n      <td>-10000.0</td>\n      <td>9900.0</td>\n      <td>100.0</td>\n    </tr>\n    <tr>\n      <th>3</th>\n      <td>4500.0</td>\n      <td>-10000.0</td>\n      <td>9900.0</td>\n    </tr>\n  </tbody>\n</table>\n</div>"
     },
     "execution_count": 106,
     "metadata": {},
     "output_type": "execute_result"
    }
   ]
  }
 ],
 "metadata": {
  "kernelspec": {
   "display_name": "Python 3",
   "language": "python",
   "name": "python3"
  },
  "language_info": {
   "codemirror_mode": {
    "name": "ipython",
    "version": 2
   },
   "file_extension": ".py",
   "mimetype": "text/x-python",
   "name": "python",
   "nbconvert_exporter": "python",
   "pygments_lexer": "ipython2",
   "version": "2.7.6"
  }
 },
 "nbformat": 4,
 "nbformat_minor": 0
}